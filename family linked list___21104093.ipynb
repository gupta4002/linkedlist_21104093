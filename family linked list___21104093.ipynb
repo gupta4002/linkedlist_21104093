{
 "cells": [
  {
   "cell_type": "code",
   "execution_count": 9,
   "id": "458644b8",
   "metadata": {},
   "outputs": [
    {
     "name": "stdout",
     "output_type": "stream",
     "text": [
      "Doubly linked list of family: \n",
      "Pankaj 42\n",
      "Garvit 17\n",
      "Garima 17\n",
      "Noori 39\n",
      "Doubly linked list of family in reverse: \n",
      "Noori 39\n",
      "Garima 17\n",
      "Garvit 17\n",
      "Pankaj 42\n",
      "Doubly linked list of family: \n",
      "Pankaj 42\n",
      "Garvit 17\n",
      "Noori 39\n"
     ]
    }
   ],
   "source": [
    "class Node:\n",
    "    def __init__(self,name,age):\n",
    "        self.name = name; \n",
    "        self.age=age; \n",
    "        self.previous = None;  \n",
    "        self.next = None;  \n",
    "          \n",
    "class DoublyLinkedList:\n",
    "    def __init__(self):  \n",
    "        self.head = None;  \n",
    "        self.tail = None;  \n",
    "           \n",
    "    def addNode(self, name,age):  \n",
    "        newNode = Node(name,age);  \n",
    "           \n",
    "        if(self.head == None):   \n",
    "            self.head = self.tail = newNode;  \n",
    "            self.head.previous = None; \n",
    "            self.tail.next = None;  \n",
    "        else:  \n",
    "            self.tail.next = newNode;  \n",
    "            newNode.previous = self.tail; \n",
    "            self.tail = newNode; \n",
    "            self.tail.next = None;  \n",
    "\n",
    "    def deleteNode(self, dele):\n",
    "        if self.head is None or dele is None:\n",
    "            return\n",
    "        if self.head == dele:\n",
    "            self.head = dele.next\n",
    "        if dele.next is not None:\n",
    "            dele.next.previous = dele.previous\n",
    "        if dele.previous is not None:\n",
    "            dele.previous.next = dele.next   \n",
    "\n",
    "    def display(self):  \n",
    "        current = self.head;  \n",
    "        if(self.head == None):  \n",
    "            print(\"List is empty\");  \n",
    "            return;  \n",
    "        print(\"Doubly linked list of family: \");  \n",
    "        while(current != None):  \n",
    "            print(current.name,current.age);  \n",
    "            current = current.next;  \n",
    "\n",
    "    def displayRev(self):  \n",
    "        current = self.tail;  \n",
    "        if(self.tail == None):  \n",
    "            print(\"List is empty\");  \n",
    "            return;  \n",
    "        print(\"Doubly linked list of family in reverse: \");  \n",
    "        while(current != None):  \n",
    "            print(current.name,current.age);  \n",
    "            current = current.previous;  \n",
    "              \n",
    "dList = DoublyLinkedList(); \n",
    "HeadOfFamily=dList.addNode(\"Pankaj\",42);\n",
    "Son=dList.addNode(\"Garvit\",17);  \n",
    "Daughter=dList.addNode(\"Garima\",17);  \n",
    "Mother=dList.addNode(\"Noori\",39);  \n",
    "dList.display();  \n",
    "dList.displayRev(); \n",
    "dList.deleteNode(dList.head.next.next);\n",
    "dList.display();"
   ]
  },
  {
   "cell_type": "code",
   "execution_count": null,
   "id": "7b29b695",
   "metadata": {},
   "outputs": [],
   "source": []
  }
 ],
 "metadata": {
  "kernelspec": {
   "display_name": "Python 3 (ipykernel)",
   "language": "python",
   "name": "python3"
  },
  "language_info": {
   "codemirror_mode": {
    "name": "ipython",
    "version": 3
   },
   "file_extension": ".py",
   "mimetype": "text/x-python",
   "name": "python",
   "nbconvert_exporter": "python",
   "pygments_lexer": "ipython3",
   "version": "3.10.5"
  }
 },
 "nbformat": 4,
 "nbformat_minor": 5
}
